{
 "cells": [
  {
   "cell_type": "code",
   "execution_count": null,
   "id": "28c7f468-79e9-48e6-9e6f-51dac6116fb0",
   "metadata": {},
   "outputs": [],
   "source": [
    "# install requirements\n",
    "!pip install falkordb openai burr[graphviz] "
   ]
  },
  {
   "cell_type": "markdown",
   "id": "5a2c326f-53cc-4eb1-8508-e06584d8051c",
   "metadata": {},
   "source": [
    "# Question & answer notebook\n",
    "\n",
    "This notebook walks you through how to build a burr application that talks to falkorDB and openai to answer questions about UFC fights."
   ]
  },
  {
   "cell_type": "code",
   "execution_count": 2,
   "id": "39233706-20fd-4043-bc0f-291626664f08",
   "metadata": {
    "ExecuteTime": {
     "end_time": "2024-05-27T16:45:35.743153Z",
     "start_time": "2024-05-27T16:45:35.716206Z"
    }
   },
   "outputs": [],
   "source": [
    "# import what we need\n",
    "import json\n",
    "from typing import Tuple\n",
    "\n",
    "import openai\n",
    "from burr.core import ApplicationBuilder, State, default, expr, Application\n",
    "from burr.core.action import action\n",
    "from burr.tracking import LocalTrackingClient\n",
    "import uuid\n",
    "from falkordb import FalkorDB\n",
    "from graph_schema import graph_schema\n",
    "import falkordb"
   ]
  },
  {
   "cell_type": "markdown",
   "id": "a2fe5f83-75b4-4d44-a80e-829947b6d240",
   "metadata": {},
   "source": [
    "## Helper functions\n",
    "We first set up some helper functions that we'll use."
   ]
  },
  {
   "cell_type": "code",
   "execution_count": 3,
   "id": "ef809095-566a-40af-a8a6-cbf72ef21227",
   "metadata": {
    "ExecuteTime": {
     "end_time": "2024-05-27T16:45:40.907749Z",
     "start_time": "2024-05-27T16:45:40.894703Z"
    }
   },
   "outputs": [],
   "source": [
    "def schema_to_prompt(schema):\n",
    "    \"\"\"Prompt to help tell the LLM what is in the graph DB\"\"\"\n",
    "    prompt = \"The Knowledge graph contains nodes of the following types:\\n\"\n",
    "\n",
    "    for node in schema['nodes']:\n",
    "        lbl = node\n",
    "        node = schema['nodes'][node]\n",
    "        if len(node['attributes']) > 0:\n",
    "            prompt += f\"The {lbl} node type has the following set of attributes:\\n\"\n",
    "            for attr in node['attributes']:\n",
    "                t = node['attributes'][attr]['type']\n",
    "                prompt += f\"The {attr} attribute is of type {t}\\n\"\n",
    "        else:\n",
    "            prompt += f\"The {node} node type has no attributes:\\n\"\n",
    "\n",
    "    prompt += \"In addition the Knowledge graph contains edge of the following types:\\n\"\n",
    "\n",
    "    for edge in schema['edges']:\n",
    "        rel = edge\n",
    "        edge = schema['edges'][edge]\n",
    "        if len(edge['attributes']) > 0:\n",
    "            prompt += f\"The {rel} edge type has the following set of attributes:\\n\"\n",
    "            for attr in edge['attributes']:\n",
    "                t = edge['attributes'][attr]['type']\n",
    "                prompt += f\"The {attr} attribute is of type {t}\\n\"\n",
    "        else:\n",
    "            prompt += f\"The {rel} edge type has no attributes:\\n\"\n",
    "\n",
    "        prompt += f\"The {rel} edge connects the following entities:\\n\"\n",
    "        for conn in edge['connects']:\n",
    "            src = conn[0]\n",
    "            dest = conn[1]\n",
    "            prompt += f\"{src} is connected via {rel} to {dest}, (:{src})-[:{rel}]->(:{dest})\\n\"\n",
    "\n",
    "    return prompt\n",
    "\n",
    "def set_inital_chat_history(schema_prompt: str) -> list[dict]:\n",
    "    \"\"\"Helper to set initial system message\"\"\"\n",
    "    SYSTEM_MESSAGE = \"You are a Cypher expert with access to a directed knowledge graph\\n\"\n",
    "    SYSTEM_MESSAGE += schema_prompt\n",
    "    SYSTEM_MESSAGE += (\"Query the knowledge graph to extract relevant information to help you answer the users \"\n",
    "                       \"questions, base your answer only on the context retrieved from the knowledge graph, \"\n",
    "                       \"do not use preexisting knowledge.\")\n",
    "    SYSTEM_MESSAGE += (\"For example to find out if two fighters had fought each other e.g. did Conor McGregor \"\n",
    "                       \"every compete against Jose Aldo issue the following query: \"\n",
    "                       \"MATCH (a:Fighter)-[]->(f:Fight)<-[]-(b:Fighter) WHERE a.Name = 'Conor McGregor' AND \"\n",
    "                       \"b.Name = 'Jose Aldo' RETURN a, b\\n\")\n",
    "\n",
    "    messages = [{\"role\": \"system\", \"content\": SYSTEM_MESSAGE}]\n",
    "    return messages"
   ]
  },
  {
   "cell_type": "markdown",
   "id": "9a78e2eb1ab4c1ef",
   "metadata": {},
   "source": [
    "## Tools\n",
    "Here we describe the tool openAI will use & it's schema that will be passed to describe it.\n"
   ]
  },
  {
   "cell_type": "code",
   "execution_count": 4,
   "id": "7134877d85934e9d",
   "metadata": {
    "ExecuteTime": {
     "end_time": "2024-05-27T16:45:54.998999Z",
     "start_time": "2024-05-27T16:45:54.991226Z"
    }
   },
   "outputs": [],
   "source": [
    "def run_cypher_query(graph, query):\n",
    "    \"\"\"What executes a query against falkorDB\"\"\"\n",
    "    try:\n",
    "        results = graph.ro_query(query).result_set\n",
    "    except:\n",
    "        results = {\"error\": \"Query failed please try a different variation of this query\"}\n",
    "\n",
    "    if len(results) == 0:\n",
    "        results = {\n",
    "            \"error\": \"The query did not return any data, please make sure you're using the right edge \"\n",
    "                     \"directions and you're following the correct graph schema\"}\n",
    "\n",
    "    return str(results)\n",
    "\n",
    "# description\n",
    "run_cypher_query_tool_description = {\n",
    "    \"type\": \"function\",\n",
    "    \"function\": {\n",
    "        \"name\": \"run_cypher_query\",\n",
    "        \"description\": \"Runs a Cypher query against the knowledge graph\",\n",
    "        \"parameters\": {\n",
    "            \"type\": \"object\",\n",
    "            \"properties\": {\n",
    "                \"query\": {\n",
    "                    \"type\": \"string\",\n",
    "                    \"description\": \"Query to execute\",\n",
    "                },\n",
    "            },\n",
    "            \"required\": [\"query\"],\n",
    "        },\n",
    "    },\n",
    "}"
   ]
  },
  {
   "cell_type": "markdown",
   "id": "8f1987f6af0eb2b6",
   "metadata": {},
   "source": [
    "## Actions\n",
    "Let's now define the actions that our application will make and what they read from & write to with respect to state.\n",
    "\n",
    "We'll define four of them:\n",
    "\n",
    "1. Human converse: This action will take the user's question and store it in the state.\n",
    "2. AI create cypher query: This action will use the user's question to create a cypher query.\n",
    "3. Tool call: This action will execute the cypher query and append the result to the chat history.\n",
    "4. AI response: This action will take the result of the cypher query and create a response."
   ]
  },
  {
   "cell_type": "code",
   "execution_count": 5,
   "id": "6c1e5d3a8bc04ec6",
   "metadata": {
    "ExecuteTime": {
     "end_time": "2024-05-27T16:46:20.736830Z",
     "start_time": "2024-05-27T16:46:20.729995Z"
    }
   },
   "outputs": [],
   "source": [
    "@action(\n",
    "    reads=[],\n",
    "    writes=[\"question\", \"chat_history\"],\n",
    ")\n",
    "def human_converse(state: State, user_question: str) -> Tuple[dict, State]:\n",
    "    \"\"\"Human converse step -- make sure we get input, and store it as state.\"\"\"\n",
    "    new_state = state.update(question=user_question)\n",
    "    new_state = new_state.append(chat_history={\"role\": \"user\", \"content\": user_question})\n",
    "    return {\"question\": user_question}, new_state"
   ]
  },
  {
   "cell_type": "code",
   "execution_count": 6,
   "id": "a29aeb9b7b025591",
   "metadata": {
    "ExecuteTime": {
     "end_time": "2024-05-27T16:46:24.286410Z",
     "start_time": "2024-05-27T16:46:24.277468Z"
    }
   },
   "outputs": [],
   "source": [
    "@action(\n",
    "    reads=[\"question\", \"chat_history\"],\n",
    "    writes=[\"chat_history\", \"tool_calls\"],\n",
    ")\n",
    "def AI_create_cypher_query(state: State, client: openai.Client) -> tuple[dict, State]:\n",
    "    \"\"\"AI step to create the cypher query.\"\"\"\n",
    "    messages = state[\"chat_history\"]\n",
    "    # Call the function\n",
    "    response = client.chat.completions.create(\n",
    "        model=\"gpt-4-turbo-preview\",\n",
    "        messages=messages,\n",
    "        tools=[run_cypher_query_tool_description],\n",
    "        tool_choice=\"auto\",\n",
    "    )\n",
    "    response_message = response.choices[0].message\n",
    "    new_state = state.append(chat_history=response_message.to_dict())\n",
    "    tool_calls = response_message.tool_calls\n",
    "    if tool_calls:\n",
    "        new_state = new_state.update(tool_calls=tool_calls)\n",
    "    # if there are no tool calls -- it means we didn't know what to do\n",
    "    return {\"ai_response\": response_message.content, \"usage\": response.usage.to_dict()}, new_state\n"
   ]
  },
  {
   "cell_type": "code",
   "execution_count": 7,
   "id": "a945e875be76be26",
   "metadata": {
    "ExecuteTime": {
     "end_time": "2024-05-27T16:46:28.364022Z",
     "start_time": "2024-05-27T16:46:28.347327Z"
    }
   },
   "outputs": [],
   "source": [
    "@action(\n",
    "    reads=[\"tool_calls\", \"chat_history\"],\n",
    "    writes=[\"tool_calls\", \"chat_history\"],\n",
    ")\n",
    "def tool_call(state: State, graph: falkordb.Graph) -> Tuple[dict, State]:\n",
    "    \"\"\"Tool call step -- execute the query and append to chat history.\"\"\"\n",
    "    tool_calls = state.get(\"tool_calls\", [])\n",
    "    new_state = state\n",
    "    result = {\"tool_calls\": []}\n",
    "    for tool_call in tool_calls:\n",
    "        function_name = tool_call.function.name\n",
    "        assert (function_name == \"run_cypher_query\")\n",
    "        function_args = json.loads(tool_call.function.arguments)\n",
    "        function_response = run_cypher_query(graph, function_args.get(\"query\"))\n",
    "        new_state = new_state.append(chat_history=\n",
    "            {\n",
    "                \"tool_call_id\": tool_call.id,\n",
    "                \"role\": \"tool\",\n",
    "                \"name\": function_name,\n",
    "                \"content\": function_response,\n",
    "            }\n",
    "        )\n",
    "        result[\"tool_calls\"].append({\"tool_call_id\": tool_call.id, \"response\": function_response})\n",
    "    new_state = new_state.update(tool_calls=[])\n",
    "    return result, new_state"
   ]
  },
  {
   "cell_type": "code",
   "execution_count": 8,
   "id": "698d1ef5da45b2c6",
   "metadata": {
    "ExecuteTime": {
     "end_time": "2024-05-27T16:47:18.853441Z",
     "start_time": "2024-05-27T16:47:18.847306Z"
    }
   },
   "outputs": [],
   "source": [
    "@action(\n",
    "    reads=[\"chat_history\"],\n",
    "    writes=[\"chat_history\"],\n",
    ")\n",
    "def AI_generate_response(state: State, client: openai.Client) -> tuple[dict, State]:\n",
    "    \"\"\"AI step to generate the response given the current chat history.\"\"\"\n",
    "    messages = state[\"chat_history\"]\n",
    "    response = client.chat.completions.create(\n",
    "        model=\"gpt-4-turbo-preview\",\n",
    "        messages=messages,\n",
    "    )  # get a new response from the model where it can see the function response\n",
    "    response_message = response.choices[0].message\n",
    "    new_state = state.append(chat_history=response_message.to_dict())\n",
    "    return {\"ai_response\": response_message.content,\n",
    "            \"usage\": response.usage.to_dict()}, new_state\n"
   ]
  },
  {
   "cell_type": "markdown",
   "id": "9fca50d97f2aca0f",
   "metadata": {},
   "source": [
    "## Define the application\n",
    "This is where we define our application now"
   ]
  },
  {
   "cell_type": "code",
   "execution_count": 9,
   "id": "66411a5074f15a7f",
   "metadata": {
    "ExecuteTime": {
     "end_time": "2024-05-27T16:47:34.643728Z",
     "start_time": "2024-05-27T16:47:34.515076Z"
    }
   },
   "outputs": [],
   "source": [
    "# define our clients / connections / IDs\n",
    "openai_client = openai.OpenAI()\n",
    "db_client = FalkorDB(host='localhost', port=6379)\n",
    "graph_name = \"UFC\"\n",
    "application_run_id = str(uuid.uuid4())"
   ]
  },
  {
   "cell_type": "code",
   "execution_count": 10,
   "id": "e4d89ba2d477efb1",
   "metadata": {
    "ExecuteTime": {
     "end_time": "2024-05-27T16:47:43.535537Z",
     "start_time": "2024-05-27T16:47:38.440468Z"
    }
   },
   "outputs": [],
   "source": [
    "# get the graph\n",
    "graph = db_client.select_graph(graph_name)\n",
    "# get schema\n",
    "schema = graph_schema(graph)\n",
    "# create a prompt from it\n",
    "schema_prompt = schema_to_prompt(schema)\n",
    "# set the initial chat history\n",
    "base_messages = set_inital_chat_history(schema_prompt)"
   ]
  },
  {
   "cell_type": "code",
   "execution_count": 11,
   "id": "dbe987ade3c5b69f",
   "metadata": {
    "ExecuteTime": {
     "end_time": "2024-05-27T16:49:23.058742Z",
     "start_time": "2024-05-27T16:49:23.052222Z"
    }
   },
   "outputs": [],
   "source": [
    "tracker = LocalTrackingClient(\"ufc-falkor\")\n",
    "# create graph\n",
    "burr_application = (\n",
    "    ApplicationBuilder()\n",
    "    .with_actions(  # define the actions\n",
    "        AI_create_cypher_query.bind(client=openai_client),\n",
    "        tool_call.bind(graph=graph),\n",
    "        AI_generate_response.bind(client=openai_client),\n",
    "        human_converse\n",
    "    )\n",
    "    .with_transitions(  # define the edges between the actions based on state conditions\n",
    "        (\"human_converse\", \"AI_create_cypher_query\", default),\n",
    "        (\"AI_create_cypher_query\", \"tool_call\", expr(\"len(tool_calls)>0\")),\n",
    "        (\"AI_create_cypher_query\", \"human_converse\", default),\n",
    "        (\"tool_call\", \"AI_generate_response\", default),\n",
    "        (\"AI_generate_response\", \"human_converse\", default)\n",
    "    )\n",
    "    .with_identifiers(app_id=application_run_id)\n",
    "    .with_state(  # initial state\n",
    "       **{\"chat_history\": base_messages, \"tool_calls\": []},\n",
    "    )\n",
    "    .with_entrypoint(\"human_converse\")\n",
    "    .with_tracker(tracker)\n",
    "    .build()\n",
    ")"
   ]
  },
  {
   "cell_type": "code",
   "execution_count": 12,
   "id": "5bb8432243e49d35",
   "metadata": {
    "ExecuteTime": {
     "end_time": "2024-05-27T16:47:47.058569Z",
     "start_time": "2024-05-27T16:47:46.295042Z"
    }
   },
   "outputs": [
    {
     "data": {
      "image/svg+xml": [
       "<?xml version=\"1.0\" encoding=\"UTF-8\" standalone=\"no\"?>\n",
       "<!DOCTYPE svg PUBLIC \"-//W3C//DTD SVG 1.1//EN\"\n",
       " \"http://www.w3.org/Graphics/SVG/1.1/DTD/svg11.dtd\">\n",
       "<!-- Generated by graphviz version 10.0.1 (20240210.2158)\n",
       " -->\n",
       "<!-- Pages: 1 -->\n",
       "<svg width=\"392pt\" height=\"261pt\"\n",
       " viewBox=\"0.00 0.00 391.53 260.50\" xmlns=\"http://www.w3.org/2000/svg\" xmlns:xlink=\"http://www.w3.org/1999/xlink\">\n",
       "<g id=\"graph0\" class=\"graph\" transform=\"scale(1 1) rotate(0) translate(4 256.5)\">\n",
       "<polygon fill=\"white\" stroke=\"none\" points=\"-4,4 -4,-256.5 387.53,-256.5 387.53,4 -4,4\"/>\n",
       "<!-- AI_create_cypher_query -->\n",
       "<g id=\"node1\" class=\"node\">\n",
       "<title>AI_create_cypher_query</title>\n",
       "<path fill=\"none\" stroke=\"black\" d=\"M237.5,-252.5C237.5,-252.5 111.25,-252.5 111.25,-252.5 105.25,-252.5 99.25,-246.5 99.25,-240.5 99.25,-240.5 99.25,-228.5 99.25,-228.5 99.25,-222.5 105.25,-216.5 111.25,-216.5 111.25,-216.5 237.5,-216.5 237.5,-216.5 243.5,-216.5 249.5,-222.5 249.5,-228.5 249.5,-228.5 249.5,-240.5 249.5,-240.5 249.5,-246.5 243.5,-252.5 237.5,-252.5\"/>\n",
       "<text text-anchor=\"middle\" x=\"174.38\" y=\"-229.45\" font-family=\"Times,serif\" font-size=\"14.00\">AI_create_cypher_query</text>\n",
       "</g>\n",
       "<!-- tool_call -->\n",
       "<g id=\"node2\" class=\"node\">\n",
       "<title>tool_call</title>\n",
       "<path fill=\"none\" stroke=\"black\" d=\"M80,-170C80,-170 40.75,-170 40.75,-170 34.75,-170 28.75,-164 28.75,-158 28.75,-158 28.75,-146 28.75,-146 28.75,-140 34.75,-134 40.75,-134 40.75,-134 80,-134 80,-134 86,-134 92,-140 92,-146 92,-146 92,-158 92,-158 92,-164 86,-170 80,-170\"/>\n",
       "<text text-anchor=\"middle\" x=\"60.38\" y=\"-146.95\" font-family=\"Times,serif\" font-size=\"14.00\">tool_call</text>\n",
       "</g>\n",
       "<!-- AI_create_cypher_query&#45;&gt;tool_call -->\n",
       "<g id=\"edge3\" class=\"edge\">\n",
       "<title>AI_create_cypher_query&#45;&gt;tool_call</title>\n",
       "<path fill=\"none\" stroke=\"black\" stroke-dasharray=\"5,2\" d=\"M98.8,-220.1C80.28,-215.22 64.1,-209.02 58.38,-201.5 54.07,-195.85 52.82,-188.66 53.07,-181.56\"/>\n",
       "<polygon fill=\"black\" stroke=\"black\" points=\"56.52,-182.22 54.37,-171.85 49.58,-181.29 56.52,-182.22\"/>\n",
       "<text text-anchor=\"middle\" x=\"104.88\" y=\"-188.2\" font-family=\"Times,serif\" font-size=\"14.00\">len(tool_calls)&gt;0</text>\n",
       "</g>\n",
       "<!-- human_converse -->\n",
       "<g id=\"node4\" class=\"node\">\n",
       "<title>human_converse</title>\n",
       "<path fill=\"none\" stroke=\"black\" d=\"M216.5,-36C216.5,-36 132.25,-36 132.25,-36 126.25,-36 120.25,-30 120.25,-24 120.25,-24 120.25,-12 120.25,-12 120.25,-6 126.25,0 132.25,0 132.25,0 216.5,0 216.5,0 222.5,0 228.5,-6 228.5,-12 228.5,-12 228.5,-24 228.5,-24 228.5,-30 222.5,-36 216.5,-36\"/>\n",
       "<text text-anchor=\"middle\" x=\"174.38\" y=\"-12.95\" font-family=\"Times,serif\" font-size=\"14.00\">human_converse</text>\n",
       "</g>\n",
       "<!-- AI_create_cypher_query&#45;&gt;human_converse -->\n",
       "<g id=\"edge4\" class=\"edge\">\n",
       "<title>AI_create_cypher_query&#45;&gt;human_converse</title>\n",
       "<path fill=\"none\" stroke=\"black\" d=\"M170.5,-216.31C166.99,-179.52 166.69,-92.83 169.61,-47.6\"/>\n",
       "<polygon fill=\"black\" stroke=\"black\" points=\"173.09,-48.02 170.37,-37.78 166.11,-47.48 173.09,-48.02\"/>\n",
       "</g>\n",
       "<!-- AI_generate_response -->\n",
       "<g id=\"node3\" class=\"node\">\n",
       "<title>AI_generate_response</title>\n",
       "<path fill=\"none\" stroke=\"black\" d=\"M124.75,-103C124.75,-103 12,-103 12,-103 6,-103 0,-97 0,-91 0,-91 0,-79 0,-79 0,-73 6,-67 12,-67 12,-67 124.75,-67 124.75,-67 130.75,-67 136.75,-73 136.75,-79 136.75,-79 136.75,-91 136.75,-91 136.75,-97 130.75,-103 124.75,-103\"/>\n",
       "<text text-anchor=\"middle\" x=\"68.38\" y=\"-79.95\" font-family=\"Times,serif\" font-size=\"14.00\">AI_generate_response</text>\n",
       "</g>\n",
       "<!-- tool_call&#45;&gt;AI_generate_response -->\n",
       "<g id=\"edge5\" class=\"edge\">\n",
       "<title>tool_call&#45;&gt;AI_generate_response</title>\n",
       "<path fill=\"none\" stroke=\"black\" d=\"M62.52,-133.58C63.24,-127.75 64.06,-121.09 64.85,-114.64\"/>\n",
       "<polygon fill=\"black\" stroke=\"black\" points=\"68.29,-115.32 66.04,-104.97 61.34,-114.47 68.29,-115.32\"/>\n",
       "</g>\n",
       "<!-- AI_generate_response&#45;&gt;human_converse -->\n",
       "<g id=\"edge6\" class=\"edge\">\n",
       "<title>AI_generate_response&#45;&gt;human_converse</title>\n",
       "<path fill=\"none\" stroke=\"black\" d=\"M96.78,-66.58C108.9,-59.15 123.22,-50.37 136.25,-42.38\"/>\n",
       "<polygon fill=\"black\" stroke=\"black\" points=\"137.91,-45.47 144.6,-37.26 134.25,-39.5 137.91,-45.47\"/>\n",
       "</g>\n",
       "<!-- human_converse&#45;&gt;AI_create_cypher_query -->\n",
       "<g id=\"edge2\" class=\"edge\">\n",
       "<title>human_converse&#45;&gt;AI_create_cypher_query</title>\n",
       "<path fill=\"none\" stroke=\"black\" d=\"M178.26,-36.27C181.76,-73.14 182.05,-159.83 179.14,-205\"/>\n",
       "<polygon fill=\"black\" stroke=\"black\" points=\"175.66,-204.56 178.37,-214.8 182.64,-205.1 175.66,-204.56\"/>\n",
       "</g>\n",
       "<!-- input__user_question -->\n",
       "<g id=\"node5\" class=\"node\">\n",
       "<title>input__user_question</title>\n",
       "<ellipse fill=\"none\" stroke=\"black\" stroke-dasharray=\"5,2\" cx=\"297.38\" cy=\"-85\" rx=\"86.15\" ry=\"18\"/>\n",
       "<text text-anchor=\"middle\" x=\"297.38\" y=\"-79.95\" font-family=\"Times,serif\" font-size=\"14.00\">input: user_question</text>\n",
       "</g>\n",
       "<!-- input__user_question&#45;&gt;human_converse -->\n",
       "<g id=\"edge1\" class=\"edge\">\n",
       "<title>input__user_question&#45;&gt;human_converse</title>\n",
       "<path fill=\"none\" stroke=\"black\" d=\"M266.65,-67.77C251.69,-59.86 233.44,-50.21 217.14,-41.6\"/>\n",
       "<polygon fill=\"black\" stroke=\"black\" points=\"219.1,-38.68 208.63,-37.1 215.83,-44.87 219.1,-38.68\"/>\n",
       "</g>\n",
       "</g>\n",
       "</svg>\n"
      ],
      "text/plain": [
       "<graphviz.graphs.Digraph at 0x11dd5f8e0>"
      ]
     },
     "execution_count": 12,
     "metadata": {},
     "output_type": "execute_result"
    }
   ],
   "source": [
    "burr_application.visualize(include_conditions=True)"
   ]
  },
  {
   "cell_type": "markdown",
   "id": "3ea2b29306cbb4d1",
   "metadata": {},
   "source": [
    "## Run the application\n",
    "Here we show how to do a simple loop stopping before `human_converse` each time to get user input before running the graph again.\n",
    "\n",
    "\n",
    "### Viewing a trace of the this application in the Burr UI\n",
    "Note: you can view the logs of the conversation in the Burr UI. \n",
    "\n",
    "To see that, in another terminal do:\n",
    "\n",
    "> burr\n",
    "\n",
    "You'll then have the UI running on [http://localhost:7241/](http://localhost:7241/).\n",
    "\n",
    "#### Using the Burr UI in google collab\n",
    "To use the UI in google collab do the following:\n",
    "\n",
    "1. Run this in a cell\n",
    "```python\n",
    "from google.colab import output\n",
    "output.serve_kernel_port_as_window(7241)\n",
    "```\n",
    "\n",
    "2. Then start the burr UI:\n",
    "```\n",
    "!burr &\n",
    "```\n",
    "3. Click the link in (1) to open a new tab."
   ]
  },
  {
   "cell_type": "code",
   "execution_count": 13,
   "id": "c2c996de4588512c",
   "metadata": {
    "ExecuteTime": {
     "end_time": "2024-05-27T16:48:59.800468Z",
     "start_time": "2024-05-27T16:48:02.100003Z"
    }
   },
   "outputs": [
    {
     "name": "stdin",
     "output_type": "stream",
     "text": [
      "What can I help you with?\n",
      " Which fighter holds the fastest win?\n"
     ]
    },
    {
     "name": "stdout",
     "output_type": "stream",
     "text": [
      "AI: The fighter who holds the fastest win is Jorge Masvidal, achieving a victory in the first round within just 5 seconds.\n",
      "\n"
     ]
    },
    {
     "name": "stdin",
     "output_type": "stream",
     "text": [
      "What can I help you with?\n",
      " Who has a 50% win percentage?\n"
     ]
    },
    {
     "name": "stdout",
     "output_type": "stream",
     "text": [
      "AI: The list of fighters who have a 50% win percentage includes names like Joe Slick, Ken Stone, Kevin Jackson, Lorenz Larkin, and many others. This list comprises fighters who have an equal number of wins and losses within the records captured in the knowledge graph.\n",
      "\n"
     ]
    },
    {
     "name": "stdin",
     "output_type": "stream",
     "text": [
      "What can I help you with?\n",
      " List fighters who had a trilogy match\n"
     ]
    },
    {
     "name": "stdout",
     "output_type": "stream",
     "text": [
      "AI: It appears there was an error in the query execution process, which could be due to the structure of the query not matching the schema or data in the knowledge graph correctly. Without access to adjust and re-run with a more specific approach, it's challenging to provide the list of fighters who had a trilogy match based on the current data and schema. The concept was to identify pairs of fighters who have fought each other three times, but the data did not produce a straightforward list in response to the query as structured.\n",
      "\n"
     ]
    },
    {
     "name": "stdin",
     "output_type": "stream",
     "text": [
      "What can I help you with?\n",
      " Who has had three matches against the same opponent?\n"
     ]
    },
    {
     "name": "stdout",
     "output_type": "stream",
     "text": [
      "AI: The fighters who have had three matches against the same opponent include:\n",
      "\n",
      "- Luke Rockhold vs. Michael Bisping\n",
      "- Mauricio Rua vs. Forrest Griffin\n",
      "- Georges St-Pierre vs. Matt Serra\n",
      "- Tito Ortiz vs. Guy Mezger\n",
      "- Jessica Andrade vs. Raquel Pennington\n",
      "- Forrest Griffin vs. Tito Ortiz\n",
      "- Jim Miller vs. Charles Oliveira\n",
      "- Demetrious Johnson vs. Henry Cejudo\n",
      "- Nikita Krylov vs. Ovince Saint Preux\n",
      "- Junior Dos Santos vs. Cain Velasquez\n",
      "- Uriah Hall vs. Gegard Mousasi\n",
      "- TJ Dillashaw vs. Raphael Assuncao\n",
      "- Frankie Edgar vs. Gray Maynard\n",
      "- Dustin Poirier vs. Conor McGregor\n",
      "\n",
      "...and many others. This list showcases fighters who have had a significant rivalry, resulting in at least three bouts against the same opponent.\n",
      "\n"
     ]
    },
    {
     "name": "stdin",
     "output_type": "stream",
     "text": [
      "What can I help you with?\n",
      " who has had the most wins with 0 losses?\n"
     ]
    },
    {
     "name": "stdout",
     "output_type": "stream",
     "text": [
      "AI: The fighter with the most wins and 0 losses is Khabib Nurmagomedov, with a total of 13 wins.\n",
      "\n"
     ]
    },
    {
     "name": "stdin",
     "output_type": "stream",
     "text": [
      "What can I help you with?\n",
      " exit\n"
     ]
    },
    {
     "data": {
      "text/plain": [
       "{'chat_history': [{'role': 'system', 'content': \"You are a Cypher expert with access to a directed knowledge graph\\nThe Knowledge graph contains nodes of the following types:\\nThe Fighter node type has the following set of attributes:\\nThe Name attribute is of type str\\nThe Weight attribute is of type int\\nThe DOB attribute is of type int\\nThe SLpM attribute is of type float\\nThe Str_Acc attribute is of type float\\nThe SApM attribute is of type float\\nThe Str_Def attribute is of type float\\nThe TD_Avg attribute is of type float\\nThe TD_Acc attribute is of type float\\nThe TD_Def attribute is of type float\\nThe Sub_Avg attribute is of type float\\nThe Height attribute is of type float\\nThe Stance attribute is of type str\\nThe Reach attribute is of type float\\nThe Referee node type has the following set of attributes:\\nThe Name attribute is of type str\\nThe Card node type has the following set of attributes:\\nThe Date attribute is of type int\\nThe Location attribute is of type str\\nThe Fight node type has the following set of attributes:\\nThe Last_round attribute is of type int\\nThe Last_round_time attribute is of type int\\nThe Format attribute is of type str\\nThe Fight_type attribute is of type str\\nIn addition the Knowledge graph contains edge of the following types:\\nThe PART_OF edge type has no attributes:\\nThe PART_OF edge connects the following entities:\\nFight is connected via PART_OF to Card, (:Fight)-[:PART_OF]->(:Card)\\nThe RED edge type has no attributes:\\nThe RED edge connects the following entities:\\nFight is connected via RED to Fighter, (:Fight)-[:RED]->(:Fighter)\\nThe BLUE edge type has no attributes:\\nThe BLUE edge connects the following entities:\\nFight is connected via BLUE to Fighter, (:Fight)-[:BLUE]->(:Fighter)\\nThe REFEREED edge type has no attributes:\\nThe REFEREED edge connects the following entities:\\nReferee is connected via REFEREED to Fight, (:Referee)-[:REFEREED]->(:Fight)\\nThe WON edge type has no attributes:\\nThe WON edge connects the following entities:\\nFighter is connected via WON to Fight, (:Fighter)-[:WON]->(:Fight)\\nThe LOST edge type has no attributes:\\nThe LOST edge connects the following entities:\\nFighter is connected via LOST to Fight, (:Fighter)-[:LOST]->(:Fight)\\nQuery the knowledge graph to extract relevant information to help you anwser the users questions, base your answer only on the context retrieved from the knowledge graph, do not use preexisting knowledge.For example to find out if two fighters had fought each other e.g. did Conor McGregor every compete against Jose Aldo issue the following query: MATCH (a:Fighter)-[]->(f:Fight)<-[]-(b:Fighter) WHERE a.Name = 'Conor McGregor' AND b.Name = 'Jose Aldo' RETURN a, b\\n\"}, {'role': 'user', 'content': 'Which fighter holds the fastest win?'}, {'content': None, 'role': 'assistant', 'tool_calls': [{'id': 'call_lNDC49pK5SwqnIDoX7oY9HzT', 'function': {'arguments': '{\"query\":\"MATCH (f:Fighter)-[:WON]->(fight:Fight) RETURN f.Name, fight.Last_round, fight.Last_round_time ORDER BY fight.Last_round ASC, fight.Last_round_time ASC LIMIT 1\"}', 'name': 'run_cypher_query'}, 'type': 'function'}]}, {'tool_call_id': 'call_lNDC49pK5SwqnIDoX7oY9HzT', 'role': 'tool', 'name': 'run_cypher_query', 'content': \"[['Jorge Masvidal', 1, 5]]\"}, {'content': 'The fighter who holds the fastest win is Jorge Masvidal, achieving a victory in the first round within just 5 seconds.', 'role': 'assistant'}, {'role': 'user', 'content': 'Who has a 50% win percentage?'}, {'content': None, 'role': 'assistant', 'tool_calls': [{'id': 'call_8CK9F03aH7n4ZhVkr96yfqxK', 'function': {'arguments': '{\"query\":\"MATCH (f:Fighter)-[:WON]->(won:Fight) WITH f.Name AS Fighter, COUNT(won) AS Wins MATCH (f:Fighter)-[:LOST]->(lost:Fight) WHERE f.Name = Fighter WITH Fighter, Wins, COUNT(lost) AS Losses WHERE Wins = Losses RETURN Fighter\"}', 'name': 'run_cypher_query'}, 'type': 'function'}]}, {'tool_call_id': 'call_8CK9F03aH7n4ZhVkr96yfqxK', 'role': 'tool', 'name': 'run_cypher_query', 'content': \"[['Joe Slick'], ['Ken Stone'], ['Kevin Jackson'], ['Lorenz Larkin'], ['Lavar Johnson'], ['Tim Boetsch'], ['Jordan Wright'], ['Anying Wang'], ['Travis Fulton'], ['Brian Bowles'], ['Joaquin Buckley'], ['Bethe Correia'], ['Sean Woodson'], ['Christian Aguilera'], ['Hugo Viana'], ['Anthony Torres'], ['Sirwan Kakai'], ['Joe Duffy'], ['Marcelo Guimaraes'], ['Roman Mitichyan'], ['Jonathan Meunier'], ['Lina Lansberg'], ['Buddy Roberts'], ['Levan Makashvili'], ['Paul Buentello'], ['Takashi Sato'], ['Erik Koch'], ['Ryan Janes'], ['Christos Giagos'], ['Bill Algeo'], ['Gan McGee'], ['Brianna Van Buren'], ['Joe Proctor'], ['Luigi Vendramini'], ['Shane Nelson'], ['Jose Torres'], ['Eliot Marshall'], ['Eddie Sanchez'], ['Jesus Pinedo'], ['Katsuhisa Fujii'], ['John Castaneda'], ['Carlos Condit'], ['Andrei Semenov'], ['Antonio Carvalho'], ['Cyrille Diabate'], ['Ismail Naurdiev'], ['Miguel Torres'], ['Waylon Lowe'], ['Shinsho Anzai'], ['Nick Hein'], ['Jesse Taylor'], ['Patrick Walsh'], ['Mounir Lazzez'], ['Aleksandra Albu'], ['Troy Mandaloniz'], ['Nicholas Musoke'], ['Dusko Todorovic'], ['Nick Ring'], ['Lyman Good'], ['Sergey Khandozhko'], ['Marcio Cruz'], ['Mariya Agapova'], ['Darren Stewart'], ['Jimi Manuwa'], ['Ji Yeon Kim'], ['Rogerio Bontorin'], ['Luke Barnatt'], ['Nassourdine Imavov'], ['Fredy Serrano'], ['Todd Medina'], ['Rory Singer'], ['Scott Ferrozzo'], ['Tony Kelley'], ['Brock Larson'], ['Tedd Williams'], ['Akira Corassani'], ['Charles Jourdain'], ['Mike Ciesnolevicz'], ['Amaury Bitetti'], ['Alex Garcia'], ['Aleksa Camur'], ['Jutaro Nakao'], ['Tony Gravely'], ['Orlando Wiet'], ['Igor Araujo'], ['Norma Dumont'], ['Joselyne Edwards'], ['Marco Polo Reyes'], ['Diego Nunes'], ['Junie Browning'], ['Naoki Inoue'], ['Jennifer Maia'], ['Paul Jones'], ['Ian Heinisch'], ['Danny Castillo'], ['John Lewis'], ['Paul Varelans'], ['Mark Hunt'], ['Pascal Krauss'], ['Shonie Carter'], ['Dustin Hazelett'], ['Joe Ellenberger'], ['Mike Perry'], ['Yves Jabouin'], ['Mike Grundy'], ['Mike Nickels'], ['Chance Rencountre'], ['Rich Clementi'], ['Tony DeSouza'], ['Trevor Prangley'], ['Parker Porter'], ['Galore Bofando'], ['Megan Anderson'], ['Nad Narimani'], ['Jonathan Pearce'], ['Kyle Daukaus'], ['Jason Lambert'], ['Tiago dos Santos e Silva'], ['Tyson Pedro'], ['Kyle Watson'], ['Gary Goodridge'], ['Luke Jumeau'], ['Molly McCann'], ['Scott Morris'], ['Aleksei Kunchenko'], ['Liz Carmouche'], ['Mario Bautista'], ['Joe Stevenson'], ['Sara McMann'], ['Nick Catone'], ['Brad Kohler'], ['Chris Lytle'], ['Nate Loughran'], ['Eryk Anders'], ['Felicia Spencer'], ['Tomasz Drwal'], ['Dan Henderson'], ['James Wilks'], ['Kay Hansen'], ['Nicco Montano'], ['Michal Oleksiejczuk'], ['Deron Winn'], ['Chris Kelades'], ['Semmy Schilt'], ['Sai Wang'], ['Laureano Staropoli'], ['Dustin Jacoby'], ['Polyana Viana'], ['Jason Saggo'], ['Falaniko Vitale'], ['Brian Melancon'], ['Mike Wilkinson'], ['Marcus Brimage'], ['Jimy Hettes'], ['SeungWoo Choi'], ['Joe Moreira'], ['Viviane Pereira'], ['Kai Kamaka'], ['Diego Rivas'], ['Jake Collier'], ['Douglas Silva de Andrade'], ['Hector Sandoval'], ['Nah-Shon Burrell'], ['Virna Jandiroba'], ['Guangyou Ning'], ['Wesley Correira'], ['Mark Godbeer'], ['Zak Ottow'], ['Lance Gibson'], ['Inoue Mizuki'], ['Dooho Choi'], ['Fares Ziam'], ['Rob Emerson'], ['Dave Strasser'], ['Cung Le'], ['Impa Kasanganay'], ['Valerie Letourneau'], ['Justin McCully'], ['Raulian Paiva'], ['Rick Glenn'], ['Rony Jason'], ['Justine Kish'], ['Roland Delorme'], ['Tatsuya Kawajiri'], ['Pingyuan Liu'], ['Tony Fryklund'], ['Danny Henry'], ['Dan Cramer'], ['Andrea Lee'], ['Kyle Noke'], ['Nick Thompson'], ['Mitch Gagnon'], ['Sijara Eubanks'], ['Mackens Semerzier'], ['Ramsey Nijem'], ['Francimar Barroso'], ['War Machine'], ['Zhang Lipeng'], ['Eddie Yagin'], ['Modestas Bukauskas'], ['Dan Bobish'], ['Steve Nelmark'], ['Noad Lahat'], ['Gokhan Saki'], ['Marco Beltran'], ['Daron Cruickshank'], ['Anthony Hernandez'], ['Ricardo Abreu'], ['Steven Graham'], ['Keith Rockel'], ['Brad Katona'], ['Benji Radach'], ['Luana Carolina'], ['Kevin Ferguson'], ['Mike van Arsdale'], ['Pablo Garza'], ['Chris Clements'], ['James Te Huna'], ['Lance Benoist'], ['Nick Denis'], ['Rodrigo Nascimento'], ['Lara Procopio'], ['Batgerel Danaa'], ['Ode Osbourne'], ['Alonzo Menifield'], ['Danny Chavez'], ['John Gunther'], ['TJ Waldburger'], ['Dwayne Cason'], ['Dave Beneteau'], ['Matt Serra'], ['John Howard'], ['Kron Gracie'], ['Dan Christison'], ['Darren Uyenoyama'], ['Jamall Emmers'], ['Matt Frevola'], ['Yves Edwards'], ['Austin Lingo'], ['Jarred Brooks'], ['Chael Sonnen'], ['Siyar Bahadurzada'], ['Keith Hackney'], ['Tsuyoshi Kohsaka'], ['Antoni Hardonk'], ['Gerald Meerschaert'], ['Andre Roberts'], ['Ivan Jorge'], ['Aiemann Zahabi'], ['Shane Young'], ['Frankie Saenz'], ['Dwight Grant'], ['Sultan Aliev'], ['Gabe Green']]\"}, {'content': 'The list of fighters who have a 50% win percentage includes names like Joe Slick, Ken Stone, Kevin Jackson, Lorenz Larkin, and many others. This list comprises fighters who have an equal number of wins and losses within the records captured in the knowledge graph.', 'role': 'assistant'}, {'role': 'user', 'content': 'List fighters who had a trilogy match'}, {'content': None, 'role': 'assistant', 'tool_calls': [{'id': 'call_lkIHhqVxGctjSrtGcBqb0BUZ', 'function': {'arguments': '{\"query\":\"MATCH (f1:Fighter)-[:WON]->(:Fight)<-[:LOST]-(f2:Fighter), (f2)-[:WON]->(:Fight)<-[:LOST]-(f1), (f1)-[:WON]->(:Fight)<-[:LOST]-(f2) WITH f1.Name AS Fighter1, f2.Name AS Fighter2, COUNT(*) AS Matches WHERE Matches = 3 RETURN Fighter1, Fighter2\"}', 'name': 'run_cypher_query'}, 'type': 'function'}]}, {'tool_call_id': 'call_lkIHhqVxGctjSrtGcBqb0BUZ', 'role': 'tool', 'name': 'run_cypher_query', 'content': '{\\'error\\': \"The query did not return any data, please make sure you\\'re using the right edge directions and you\\'re following the correct graph schema\"}'}, {'content': \"It appears there was an error in the query execution process, which could be due to the structure of the query not matching the schema or data in the knowledge graph correctly. Without access to adjust and re-run with a more specific approach, it's challenging to provide the list of fighters who had a trilogy match based on the current data and schema. The concept was to identify pairs of fighters who have fought each other three times, but the data did not produce a straightforward list in response to the query as structured.\", 'role': 'assistant'}, {'role': 'user', 'content': 'Who has had three matches against the same opponent?'}, {'content': None, 'role': 'assistant', 'tool_calls': [{'id': 'call_VCiRhEGAHfDRQt2mB11wejl8', 'function': {'arguments': '{\"query\":\"MATCH (fighter:Fighter)-[:WON]->(fight:Fight) <-[:LOST]-(opponent:Fighter), (opponent)-[:WON]->(fight2:Fight) <-[:LOST]-(fighter), (fighter)-[:WON]->(fight3:Fight) <-[:LOST]-(opponent) WITH fighter, opponent, COUNT(DISTINCT fight) + COUNT(DISTINCT fight2) + COUNT(DISTINCT fight3) AS totalFights WHERE totalFights >= 3 RETURN fighter.Name, opponent.Name\"}', 'name': 'run_cypher_query'}, 'type': 'function'}]}, {'tool_call_id': 'call_VCiRhEGAHfDRQt2mB11wejl8', 'role': 'tool', 'name': 'run_cypher_query', 'content': \"[['Luke Rockhold', 'Michael Bisping'], ['Mauricio Rua', 'Forrest Griffin'], ['Georges St-Pierre', 'Matt Serra'], ['Tito Ortiz', 'Guy Mezger'], ['Jessica Andrade', 'Raquel Pennington'], ['Forrest Griffin', 'Tito Ortiz'], ['Guy Mezger', 'Tito Ortiz'], ['Jim Miller', 'Charles Oliveira'], ['Demetrious Johnson', 'Henry Cejudo'], ['Nikita Krylov', 'Ovince Saint Preux'], ['Junior Dos Santos', 'Cain Velasquez'], ['Uriah Hall', 'Gegard Mousasi'], ['Falaniko Vitale', 'Matt Lindland'], ['Stephan Bonnar', 'Krzysztof Soszynski'], ['TJ Dillashaw', 'Raphael Assuncao'], ['BJ Penn', 'Jens Pulver'], ['Raquel Pennington', 'Jessica Andrade'], ['Frankie Edgar', 'Gray Maynard'], ['Dustin Poirier', 'Conor McGregor'], ['Michael Bisping', 'Dan Henderson'], ['Matt Serra', 'Georges St-Pierre'], ['Dan Henderson', 'Michael Bisping'], ['Chuck Liddell', 'Jeremy Horn'], ['Georges St-Pierre', 'Matt Hughes'], ['Andrei Arlovski', 'Tim Sylvia'], ['Edson Barboza', 'Paul Felder'], ['Nate Diaz', 'Gray Maynard'], ['Nam Phan', 'Leonard Garcia'], ['Gray Maynard', 'Frankie Edgar'], ['Jan Blachowicz', 'Corey Anderson'], ['Cain Velasquez', 'Junior Dos Santos'], ['Jimmie Rivera', 'Pedro Munhoz'], ['Ovince Saint Preux', 'Nikita Krylov'], ['Frank Mir', 'Brock Lesnar'], ['Paul Felder', 'Edson Barboza'], ['Vitor Belfort', 'Randy Couture'], ['Jimi Manuwa', 'Jan Blachowicz'], ['Sam Stout', 'Spencer Fisher'], ['Matt Serra', 'Chris Lytle'], ['Ken Shamrock', 'Dan Severn'], ['Matt Hughes', 'BJ Penn'], ['Matt Lindland', 'Falaniko Vitale'], ['Leonard Garcia', 'Nam Phan'], ['Martin Kampmann', 'Carlos Condit'], ['Michael Bisping', 'Luke Rockhold'], ['Mauricio Rua', 'Lyoto Machida'], ['Randy Couture', 'Chuck Liddell'], ['Gray Maynard', 'Nate Diaz'], ['Junior Dos Santos', 'Stipe Miocic'], ['Chris Lytle', 'Matt Serra'], ['Randy Couture', 'Vitor Belfort'], ['Dan Severn', 'Ken Shamrock'], ['Matt Hughes', 'Georges St-Pierre'], ['Forrest Griffin', 'Mauricio Rua'], ['Jan Blachowicz', 'Jimi Manuwa'], ['Stipe Miocic', 'Daniel Cormier'], ['Laverne Clark', 'Fabiano Iha'], ['Jens Pulver', 'BJ Penn'], ['Gabriel Gonzaga', 'Mirko Filipovic'], ['Gegard Mousasi', 'Uriah Hall'], ['Shane Nelson', 'Aaron Riley'], ['Chuck Liddell', 'Randy Couture'], ['Nate Diaz', 'Conor McGregor'], ['Raphael Assuncao', 'Marlon Moraes'], ['Corey Anderson', 'Jan Blachowicz'], ['Conor McGregor', 'Nate Diaz'], ['Brock Lesnar', 'Frank Mir'], ['Krzysztof Soszynski', 'Stephan Bonnar'], ['Jeremy Horn', 'Chuck Liddell'], ['Charles Oliveira', 'Jim Miller'], ['Robbie Lawler', 'Johny Hendricks'], ['Daniel Cormier', 'Stipe Miocic'], ['Raphael Assuncao', 'TJ Dillashaw'], ['Stipe Miocic', 'Junior Dos Santos'], ['Marlon Moraes', 'Raphael Assuncao'], ['Lyoto Machida', 'Mauricio Rua'], ['Henry Cejudo', 'Demetrious Johnson'], ['Kevin Burns', 'Anthony Johnson'], ['BJ Penn', 'Matt Hughes'], ['Spencer Fisher', 'Sam Stout'], ['Aaron Riley', 'Shane Nelson'], ['Anthony Johnson', 'Kevin Burns'], ['Rose Namajunas', 'Jessica Andrade'], ['Carlos Condit', 'Martin Kampmann'], ['Tito Ortiz', 'Forrest Griffin'], ['Mirko Filipovic', 'Gabriel Gonzaga'], ['Pedro Munhoz', 'Jimmie Rivera'], ['Jessica Andrade', 'Rose Namajunas'], ['Johny Hendricks', 'Robbie Lawler'], ['Conor McGregor', 'Dustin Poirier'], ['Fabiano Iha', 'Laverne Clark'], ['Tim Sylvia', 'Andrei Arlovski']]\"}, {'content': 'The fighters who have had three matches against the same opponent include:\\n\\n- Luke Rockhold vs. Michael Bisping\\n- Mauricio Rua vs. Forrest Griffin\\n- Georges St-Pierre vs. Matt Serra\\n- Tito Ortiz vs. Guy Mezger\\n- Jessica Andrade vs. Raquel Pennington\\n- Forrest Griffin vs. Tito Ortiz\\n- Jim Miller vs. Charles Oliveira\\n- Demetrious Johnson vs. Henry Cejudo\\n- Nikita Krylov vs. Ovince Saint Preux\\n- Junior Dos Santos vs. Cain Velasquez\\n- Uriah Hall vs. Gegard Mousasi\\n- TJ Dillashaw vs. Raphael Assuncao\\n- Frankie Edgar vs. Gray Maynard\\n- Dustin Poirier vs. Conor McGregor\\n\\n...and many others. This list showcases fighters who have had a significant rivalry, resulting in at least three bouts against the same opponent.', 'role': 'assistant'}, {'role': 'user', 'content': 'who has had the most wins with 0 losses?'}, {'content': None, 'role': 'assistant', 'tool_calls': [{'id': 'call_MdQM3OdINenpuij3El717iWy', 'function': {'arguments': '{\"query\":\"MATCH (f:Fighter)-[:WON]->(fight:Fight) WHERE NOT (f)-[:LOST]->() WITH f.Name AS Fighter, COUNT(fight) AS Wins ORDER BY Wins DESC LIMIT 1 RETURN Fighter, Wins\"}', 'name': 'run_cypher_query'}, 'type': 'function'}]}, {'tool_call_id': 'call_MdQM3OdINenpuij3El717iWy', 'role': 'tool', 'name': 'run_cypher_query', 'content': \"[['Khabib Nurmagomedov', 13]]\"}, {'content': 'The fighter with the most wins and 0 losses is Khabib Nurmagomedov, with a total of 13 wins.', 'role': 'assistant'}], 'tool_calls': [], '__SEQUENCE_ID': 19, 'question': 'who has had the most wins with 0 losses?', '__PRIOR_STEP': 'AI_generate_response'}"
      ]
     },
     "execution_count": 13,
     "metadata": {},
     "output_type": "execute_result"
    }
   ],
   "source": [
    "# run it\n",
    "while True:\n",
    "    # this will ask for input:\n",
    "    question = input(\"What can I help you with?\\n\")\n",
    "    if question == \"exit\":\n",
    "        break\n",
    "    current_action, _, current_state = burr_application.run(\n",
    "        halt_before=[\"human_converse\"],\n",
    "        inputs={\"user_question\": question},\n",
    "    )\n",
    "    # we'll then see the AI response:\n",
    "    print(f\"AI: {current_state['chat_history'][-1]['content']}\\n\")\n",
    "current_state"
   ]
  },
  {
   "cell_type": "markdown",
   "id": "05d0b159-3fd8-48b1-9c15-88375a52d60b",
   "metadata": {},
   "source": [
    "With Burr we can continue where we left off easily!\n",
    "\n",
    "So why not run the conversation through some more?"
   ]
  },
  {
   "cell_type": "code",
   "execution_count": 14,
   "id": "6366fdb4-5b08-4a8f-8f73-ffca67d2091a",
   "metadata": {},
   "outputs": [
    {
     "name": "stdin",
     "output_type": "stream",
     "text": [
      "What can I help you with?\n",
      " Who has Connor McGregor lost to the most?\n"
     ]
    },
    {
     "name": "stdout",
     "output_type": "stream",
     "text": [
      "AI: Conor McGregor has lost to Dustin Poirier the most, with a total of one loss.\n",
      "\n"
     ]
    },
    {
     "name": "stdin",
     "output_type": "stream",
     "text": [
      "What can I help you with?\n",
      " exit\n"
     ]
    },
    {
     "data": {
      "text/plain": [
       "{'chat_history': [{'role': 'system', 'content': \"You are a Cypher expert with access to a directed knowledge graph\\nThe Knowledge graph contains nodes of the following types:\\nThe Fighter node type has the following set of attributes:\\nThe Name attribute is of type str\\nThe Weight attribute is of type int\\nThe DOB attribute is of type int\\nThe SLpM attribute is of type float\\nThe Str_Acc attribute is of type float\\nThe SApM attribute is of type float\\nThe Str_Def attribute is of type float\\nThe TD_Avg attribute is of type float\\nThe TD_Acc attribute is of type float\\nThe TD_Def attribute is of type float\\nThe Sub_Avg attribute is of type float\\nThe Height attribute is of type float\\nThe Stance attribute is of type str\\nThe Reach attribute is of type float\\nThe Referee node type has the following set of attributes:\\nThe Name attribute is of type str\\nThe Card node type has the following set of attributes:\\nThe Date attribute is of type int\\nThe Location attribute is of type str\\nThe Fight node type has the following set of attributes:\\nThe Last_round attribute is of type int\\nThe Last_round_time attribute is of type int\\nThe Format attribute is of type str\\nThe Fight_type attribute is of type str\\nIn addition the Knowledge graph contains edge of the following types:\\nThe PART_OF edge type has no attributes:\\nThe PART_OF edge connects the following entities:\\nFight is connected via PART_OF to Card, (:Fight)-[:PART_OF]->(:Card)\\nThe RED edge type has no attributes:\\nThe RED edge connects the following entities:\\nFight is connected via RED to Fighter, (:Fight)-[:RED]->(:Fighter)\\nThe BLUE edge type has no attributes:\\nThe BLUE edge connects the following entities:\\nFight is connected via BLUE to Fighter, (:Fight)-[:BLUE]->(:Fighter)\\nThe REFEREED edge type has no attributes:\\nThe REFEREED edge connects the following entities:\\nReferee is connected via REFEREED to Fight, (:Referee)-[:REFEREED]->(:Fight)\\nThe WON edge type has no attributes:\\nThe WON edge connects the following entities:\\nFighter is connected via WON to Fight, (:Fighter)-[:WON]->(:Fight)\\nThe LOST edge type has no attributes:\\nThe LOST edge connects the following entities:\\nFighter is connected via LOST to Fight, (:Fighter)-[:LOST]->(:Fight)\\nQuery the knowledge graph to extract relevant information to help you anwser the users questions, base your answer only on the context retrieved from the knowledge graph, do not use preexisting knowledge.For example to find out if two fighters had fought each other e.g. did Conor McGregor every compete against Jose Aldo issue the following query: MATCH (a:Fighter)-[]->(f:Fight)<-[]-(b:Fighter) WHERE a.Name = 'Conor McGregor' AND b.Name = 'Jose Aldo' RETURN a, b\\n\"}, {'role': 'user', 'content': 'Which fighter holds the fastest win?'}, {'content': None, 'role': 'assistant', 'tool_calls': [{'id': 'call_lNDC49pK5SwqnIDoX7oY9HzT', 'function': {'arguments': '{\"query\":\"MATCH (f:Fighter)-[:WON]->(fight:Fight) RETURN f.Name, fight.Last_round, fight.Last_round_time ORDER BY fight.Last_round ASC, fight.Last_round_time ASC LIMIT 1\"}', 'name': 'run_cypher_query'}, 'type': 'function'}]}, {'tool_call_id': 'call_lNDC49pK5SwqnIDoX7oY9HzT', 'role': 'tool', 'name': 'run_cypher_query', 'content': \"[['Jorge Masvidal', 1, 5]]\"}, {'content': 'The fighter who holds the fastest win is Jorge Masvidal, achieving a victory in the first round within just 5 seconds.', 'role': 'assistant'}, {'role': 'user', 'content': 'Who has a 50% win percentage?'}, {'content': None, 'role': 'assistant', 'tool_calls': [{'id': 'call_8CK9F03aH7n4ZhVkr96yfqxK', 'function': {'arguments': '{\"query\":\"MATCH (f:Fighter)-[:WON]->(won:Fight) WITH f.Name AS Fighter, COUNT(won) AS Wins MATCH (f:Fighter)-[:LOST]->(lost:Fight) WHERE f.Name = Fighter WITH Fighter, Wins, COUNT(lost) AS Losses WHERE Wins = Losses RETURN Fighter\"}', 'name': 'run_cypher_query'}, 'type': 'function'}]}, {'tool_call_id': 'call_8CK9F03aH7n4ZhVkr96yfqxK', 'role': 'tool', 'name': 'run_cypher_query', 'content': \"[['Joe Slick'], ['Ken Stone'], ['Kevin Jackson'], ['Lorenz Larkin'], ['Lavar Johnson'], ['Tim Boetsch'], ['Jordan Wright'], ['Anying Wang'], ['Travis Fulton'], ['Brian Bowles'], ['Joaquin Buckley'], ['Bethe Correia'], ['Sean Woodson'], ['Christian Aguilera'], ['Hugo Viana'], ['Anthony Torres'], ['Sirwan Kakai'], ['Joe Duffy'], ['Marcelo Guimaraes'], ['Roman Mitichyan'], ['Jonathan Meunier'], ['Lina Lansberg'], ['Buddy Roberts'], ['Levan Makashvili'], ['Paul Buentello'], ['Takashi Sato'], ['Erik Koch'], ['Ryan Janes'], ['Christos Giagos'], ['Bill Algeo'], ['Gan McGee'], ['Brianna Van Buren'], ['Joe Proctor'], ['Luigi Vendramini'], ['Shane Nelson'], ['Jose Torres'], ['Eliot Marshall'], ['Eddie Sanchez'], ['Jesus Pinedo'], ['Katsuhisa Fujii'], ['John Castaneda'], ['Carlos Condit'], ['Andrei Semenov'], ['Antonio Carvalho'], ['Cyrille Diabate'], ['Ismail Naurdiev'], ['Miguel Torres'], ['Waylon Lowe'], ['Shinsho Anzai'], ['Nick Hein'], ['Jesse Taylor'], ['Patrick Walsh'], ['Mounir Lazzez'], ['Aleksandra Albu'], ['Troy Mandaloniz'], ['Nicholas Musoke'], ['Dusko Todorovic'], ['Nick Ring'], ['Lyman Good'], ['Sergey Khandozhko'], ['Marcio Cruz'], ['Mariya Agapova'], ['Darren Stewart'], ['Jimi Manuwa'], ['Ji Yeon Kim'], ['Rogerio Bontorin'], ['Luke Barnatt'], ['Nassourdine Imavov'], ['Fredy Serrano'], ['Todd Medina'], ['Rory Singer'], ['Scott Ferrozzo'], ['Tony Kelley'], ['Brock Larson'], ['Tedd Williams'], ['Akira Corassani'], ['Charles Jourdain'], ['Mike Ciesnolevicz'], ['Amaury Bitetti'], ['Alex Garcia'], ['Aleksa Camur'], ['Jutaro Nakao'], ['Tony Gravely'], ['Orlando Wiet'], ['Igor Araujo'], ['Norma Dumont'], ['Joselyne Edwards'], ['Marco Polo Reyes'], ['Diego Nunes'], ['Junie Browning'], ['Naoki Inoue'], ['Jennifer Maia'], ['Paul Jones'], ['Ian Heinisch'], ['Danny Castillo'], ['John Lewis'], ['Paul Varelans'], ['Mark Hunt'], ['Pascal Krauss'], ['Shonie Carter'], ['Dustin Hazelett'], ['Joe Ellenberger'], ['Mike Perry'], ['Yves Jabouin'], ['Mike Grundy'], ['Mike Nickels'], ['Chance Rencountre'], ['Rich Clementi'], ['Tony DeSouza'], ['Trevor Prangley'], ['Parker Porter'], ['Galore Bofando'], ['Megan Anderson'], ['Nad Narimani'], ['Jonathan Pearce'], ['Kyle Daukaus'], ['Jason Lambert'], ['Tiago dos Santos e Silva'], ['Tyson Pedro'], ['Kyle Watson'], ['Gary Goodridge'], ['Luke Jumeau'], ['Molly McCann'], ['Scott Morris'], ['Aleksei Kunchenko'], ['Liz Carmouche'], ['Mario Bautista'], ['Joe Stevenson'], ['Sara McMann'], ['Nick Catone'], ['Brad Kohler'], ['Chris Lytle'], ['Nate Loughran'], ['Eryk Anders'], ['Felicia Spencer'], ['Tomasz Drwal'], ['Dan Henderson'], ['James Wilks'], ['Kay Hansen'], ['Nicco Montano'], ['Michal Oleksiejczuk'], ['Deron Winn'], ['Chris Kelades'], ['Semmy Schilt'], ['Sai Wang'], ['Laureano Staropoli'], ['Dustin Jacoby'], ['Polyana Viana'], ['Jason Saggo'], ['Falaniko Vitale'], ['Brian Melancon'], ['Mike Wilkinson'], ['Marcus Brimage'], ['Jimy Hettes'], ['SeungWoo Choi'], ['Joe Moreira'], ['Viviane Pereira'], ['Kai Kamaka'], ['Diego Rivas'], ['Jake Collier'], ['Douglas Silva de Andrade'], ['Hector Sandoval'], ['Nah-Shon Burrell'], ['Virna Jandiroba'], ['Guangyou Ning'], ['Wesley Correira'], ['Mark Godbeer'], ['Zak Ottow'], ['Lance Gibson'], ['Inoue Mizuki'], ['Dooho Choi'], ['Fares Ziam'], ['Rob Emerson'], ['Dave Strasser'], ['Cung Le'], ['Impa Kasanganay'], ['Valerie Letourneau'], ['Justin McCully'], ['Raulian Paiva'], ['Rick Glenn'], ['Rony Jason'], ['Justine Kish'], ['Roland Delorme'], ['Tatsuya Kawajiri'], ['Pingyuan Liu'], ['Tony Fryklund'], ['Danny Henry'], ['Dan Cramer'], ['Andrea Lee'], ['Kyle Noke'], ['Nick Thompson'], ['Mitch Gagnon'], ['Sijara Eubanks'], ['Mackens Semerzier'], ['Ramsey Nijem'], ['Francimar Barroso'], ['War Machine'], ['Zhang Lipeng'], ['Eddie Yagin'], ['Modestas Bukauskas'], ['Dan Bobish'], ['Steve Nelmark'], ['Noad Lahat'], ['Gokhan Saki'], ['Marco Beltran'], ['Daron Cruickshank'], ['Anthony Hernandez'], ['Ricardo Abreu'], ['Steven Graham'], ['Keith Rockel'], ['Brad Katona'], ['Benji Radach'], ['Luana Carolina'], ['Kevin Ferguson'], ['Mike van Arsdale'], ['Pablo Garza'], ['Chris Clements'], ['James Te Huna'], ['Lance Benoist'], ['Nick Denis'], ['Rodrigo Nascimento'], ['Lara Procopio'], ['Batgerel Danaa'], ['Ode Osbourne'], ['Alonzo Menifield'], ['Danny Chavez'], ['John Gunther'], ['TJ Waldburger'], ['Dwayne Cason'], ['Dave Beneteau'], ['Matt Serra'], ['John Howard'], ['Kron Gracie'], ['Dan Christison'], ['Darren Uyenoyama'], ['Jamall Emmers'], ['Matt Frevola'], ['Yves Edwards'], ['Austin Lingo'], ['Jarred Brooks'], ['Chael Sonnen'], ['Siyar Bahadurzada'], ['Keith Hackney'], ['Tsuyoshi Kohsaka'], ['Antoni Hardonk'], ['Gerald Meerschaert'], ['Andre Roberts'], ['Ivan Jorge'], ['Aiemann Zahabi'], ['Shane Young'], ['Frankie Saenz'], ['Dwight Grant'], ['Sultan Aliev'], ['Gabe Green']]\"}, {'content': 'The list of fighters who have a 50% win percentage includes names like Joe Slick, Ken Stone, Kevin Jackson, Lorenz Larkin, and many others. This list comprises fighters who have an equal number of wins and losses within the records captured in the knowledge graph.', 'role': 'assistant'}, {'role': 'user', 'content': 'List fighters who had a trilogy match'}, {'content': None, 'role': 'assistant', 'tool_calls': [{'id': 'call_lkIHhqVxGctjSrtGcBqb0BUZ', 'function': {'arguments': '{\"query\":\"MATCH (f1:Fighter)-[:WON]->(:Fight)<-[:LOST]-(f2:Fighter), (f2)-[:WON]->(:Fight)<-[:LOST]-(f1), (f1)-[:WON]->(:Fight)<-[:LOST]-(f2) WITH f1.Name AS Fighter1, f2.Name AS Fighter2, COUNT(*) AS Matches WHERE Matches = 3 RETURN Fighter1, Fighter2\"}', 'name': 'run_cypher_query'}, 'type': 'function'}]}, {'tool_call_id': 'call_lkIHhqVxGctjSrtGcBqb0BUZ', 'role': 'tool', 'name': 'run_cypher_query', 'content': '{\\'error\\': \"The query did not return any data, please make sure you\\'re using the right edge directions and you\\'re following the correct graph schema\"}'}, {'content': \"It appears there was an error in the query execution process, which could be due to the structure of the query not matching the schema or data in the knowledge graph correctly. Without access to adjust and re-run with a more specific approach, it's challenging to provide the list of fighters who had a trilogy match based on the current data and schema. The concept was to identify pairs of fighters who have fought each other three times, but the data did not produce a straightforward list in response to the query as structured.\", 'role': 'assistant'}, {'role': 'user', 'content': 'Who has had three matches against the same opponent?'}, {'content': None, 'role': 'assistant', 'tool_calls': [{'id': 'call_VCiRhEGAHfDRQt2mB11wejl8', 'function': {'arguments': '{\"query\":\"MATCH (fighter:Fighter)-[:WON]->(fight:Fight) <-[:LOST]-(opponent:Fighter), (opponent)-[:WON]->(fight2:Fight) <-[:LOST]-(fighter), (fighter)-[:WON]->(fight3:Fight) <-[:LOST]-(opponent) WITH fighter, opponent, COUNT(DISTINCT fight) + COUNT(DISTINCT fight2) + COUNT(DISTINCT fight3) AS totalFights WHERE totalFights >= 3 RETURN fighter.Name, opponent.Name\"}', 'name': 'run_cypher_query'}, 'type': 'function'}]}, {'tool_call_id': 'call_VCiRhEGAHfDRQt2mB11wejl8', 'role': 'tool', 'name': 'run_cypher_query', 'content': \"[['Luke Rockhold', 'Michael Bisping'], ['Mauricio Rua', 'Forrest Griffin'], ['Georges St-Pierre', 'Matt Serra'], ['Tito Ortiz', 'Guy Mezger'], ['Jessica Andrade', 'Raquel Pennington'], ['Forrest Griffin', 'Tito Ortiz'], ['Guy Mezger', 'Tito Ortiz'], ['Jim Miller', 'Charles Oliveira'], ['Demetrious Johnson', 'Henry Cejudo'], ['Nikita Krylov', 'Ovince Saint Preux'], ['Junior Dos Santos', 'Cain Velasquez'], ['Uriah Hall', 'Gegard Mousasi'], ['Falaniko Vitale', 'Matt Lindland'], ['Stephan Bonnar', 'Krzysztof Soszynski'], ['TJ Dillashaw', 'Raphael Assuncao'], ['BJ Penn', 'Jens Pulver'], ['Raquel Pennington', 'Jessica Andrade'], ['Frankie Edgar', 'Gray Maynard'], ['Dustin Poirier', 'Conor McGregor'], ['Michael Bisping', 'Dan Henderson'], ['Matt Serra', 'Georges St-Pierre'], ['Dan Henderson', 'Michael Bisping'], ['Chuck Liddell', 'Jeremy Horn'], ['Georges St-Pierre', 'Matt Hughes'], ['Andrei Arlovski', 'Tim Sylvia'], ['Edson Barboza', 'Paul Felder'], ['Nate Diaz', 'Gray Maynard'], ['Nam Phan', 'Leonard Garcia'], ['Gray Maynard', 'Frankie Edgar'], ['Jan Blachowicz', 'Corey Anderson'], ['Cain Velasquez', 'Junior Dos Santos'], ['Jimmie Rivera', 'Pedro Munhoz'], ['Ovince Saint Preux', 'Nikita Krylov'], ['Frank Mir', 'Brock Lesnar'], ['Paul Felder', 'Edson Barboza'], ['Vitor Belfort', 'Randy Couture'], ['Jimi Manuwa', 'Jan Blachowicz'], ['Sam Stout', 'Spencer Fisher'], ['Matt Serra', 'Chris Lytle'], ['Ken Shamrock', 'Dan Severn'], ['Matt Hughes', 'BJ Penn'], ['Matt Lindland', 'Falaniko Vitale'], ['Leonard Garcia', 'Nam Phan'], ['Martin Kampmann', 'Carlos Condit'], ['Michael Bisping', 'Luke Rockhold'], ['Mauricio Rua', 'Lyoto Machida'], ['Randy Couture', 'Chuck Liddell'], ['Gray Maynard', 'Nate Diaz'], ['Junior Dos Santos', 'Stipe Miocic'], ['Chris Lytle', 'Matt Serra'], ['Randy Couture', 'Vitor Belfort'], ['Dan Severn', 'Ken Shamrock'], ['Matt Hughes', 'Georges St-Pierre'], ['Forrest Griffin', 'Mauricio Rua'], ['Jan Blachowicz', 'Jimi Manuwa'], ['Stipe Miocic', 'Daniel Cormier'], ['Laverne Clark', 'Fabiano Iha'], ['Jens Pulver', 'BJ Penn'], ['Gabriel Gonzaga', 'Mirko Filipovic'], ['Gegard Mousasi', 'Uriah Hall'], ['Shane Nelson', 'Aaron Riley'], ['Chuck Liddell', 'Randy Couture'], ['Nate Diaz', 'Conor McGregor'], ['Raphael Assuncao', 'Marlon Moraes'], ['Corey Anderson', 'Jan Blachowicz'], ['Conor McGregor', 'Nate Diaz'], ['Brock Lesnar', 'Frank Mir'], ['Krzysztof Soszynski', 'Stephan Bonnar'], ['Jeremy Horn', 'Chuck Liddell'], ['Charles Oliveira', 'Jim Miller'], ['Robbie Lawler', 'Johny Hendricks'], ['Daniel Cormier', 'Stipe Miocic'], ['Raphael Assuncao', 'TJ Dillashaw'], ['Stipe Miocic', 'Junior Dos Santos'], ['Marlon Moraes', 'Raphael Assuncao'], ['Lyoto Machida', 'Mauricio Rua'], ['Henry Cejudo', 'Demetrious Johnson'], ['Kevin Burns', 'Anthony Johnson'], ['BJ Penn', 'Matt Hughes'], ['Spencer Fisher', 'Sam Stout'], ['Aaron Riley', 'Shane Nelson'], ['Anthony Johnson', 'Kevin Burns'], ['Rose Namajunas', 'Jessica Andrade'], ['Carlos Condit', 'Martin Kampmann'], ['Tito Ortiz', 'Forrest Griffin'], ['Mirko Filipovic', 'Gabriel Gonzaga'], ['Pedro Munhoz', 'Jimmie Rivera'], ['Jessica Andrade', 'Rose Namajunas'], ['Johny Hendricks', 'Robbie Lawler'], ['Conor McGregor', 'Dustin Poirier'], ['Fabiano Iha', 'Laverne Clark'], ['Tim Sylvia', 'Andrei Arlovski']]\"}, {'content': 'The fighters who have had three matches against the same opponent include:\\n\\n- Luke Rockhold vs. Michael Bisping\\n- Mauricio Rua vs. Forrest Griffin\\n- Georges St-Pierre vs. Matt Serra\\n- Tito Ortiz vs. Guy Mezger\\n- Jessica Andrade vs. Raquel Pennington\\n- Forrest Griffin vs. Tito Ortiz\\n- Jim Miller vs. Charles Oliveira\\n- Demetrious Johnson vs. Henry Cejudo\\n- Nikita Krylov vs. Ovince Saint Preux\\n- Junior Dos Santos vs. Cain Velasquez\\n- Uriah Hall vs. Gegard Mousasi\\n- TJ Dillashaw vs. Raphael Assuncao\\n- Frankie Edgar vs. Gray Maynard\\n- Dustin Poirier vs. Conor McGregor\\n\\n...and many others. This list showcases fighters who have had a significant rivalry, resulting in at least three bouts against the same opponent.', 'role': 'assistant'}, {'role': 'user', 'content': 'who has had the most wins with 0 losses?'}, {'content': None, 'role': 'assistant', 'tool_calls': [{'id': 'call_MdQM3OdINenpuij3El717iWy', 'function': {'arguments': '{\"query\":\"MATCH (f:Fighter)-[:WON]->(fight:Fight) WHERE NOT (f)-[:LOST]->() WITH f.Name AS Fighter, COUNT(fight) AS Wins ORDER BY Wins DESC LIMIT 1 RETURN Fighter, Wins\"}', 'name': 'run_cypher_query'}, 'type': 'function'}]}, {'tool_call_id': 'call_MdQM3OdINenpuij3El717iWy', 'role': 'tool', 'name': 'run_cypher_query', 'content': \"[['Khabib Nurmagomedov', 13]]\"}, {'content': 'The fighter with the most wins and 0 losses is Khabib Nurmagomedov, with a total of 13 wins.', 'role': 'assistant'}, {'role': 'user', 'content': 'Who has Connor McGregor lost to the most?'}, {'content': None, 'role': 'assistant', 'tool_calls': [{'id': 'call_yvzhQq0cqlydLrYuX1SodRDg', 'function': {'arguments': '{\"query\":\"MATCH (f:Fighter {Name: \\'Conor McGregor\\'})-[:LOST]->(fight:Fight)<-[:WON]-(opponent:Fighter) WITH opponent.Name AS Opponent, COUNT(fight) AS Losses ORDER BY Losses DESC LIMIT 1 RETURN Opponent, Losses\"}', 'name': 'run_cypher_query'}, 'type': 'function'}]}, {'tool_call_id': 'call_yvzhQq0cqlydLrYuX1SodRDg', 'role': 'tool', 'name': 'run_cypher_query', 'content': \"[['Dustin Poirier', 1]]\"}, {'content': 'Conor McGregor has lost to Dustin Poirier the most, with a total of one loss.', 'role': 'assistant'}], 'tool_calls': [], '__SEQUENCE_ID': 23, 'question': 'Who has Connor McGregor lost to the most?', '__PRIOR_STEP': 'AI_generate_response'}"
      ]
     },
     "execution_count": 14,
     "metadata": {},
     "output_type": "execute_result"
    }
   ],
   "source": [
    "# run it\n",
    "while True:\n",
    "    # this will ask for input:\n",
    "    question = input(\"What can I help you with?\\n\")\n",
    "    if question == \"exit\":\n",
    "        break\n",
    "    current_action, _, current_state = burr_application.run(\n",
    "        halt_before=[\"human_converse\"],\n",
    "        inputs={\"user_question\": question},\n",
    "    )\n",
    "    # we'll then see the AI response:\n",
    "    print(f\"AI: {current_state['chat_history'][-1]['content']}\\n\")\n",
    "current_state"
   ]
  },
  {
   "cell_type": "code",
   "execution_count": null,
   "id": "d98761be-7aa2-4378-8367-b084491ee8b1",
   "metadata": {},
   "outputs": [],
   "source": []
  }
 ],
 "metadata": {
  "kernelspec": {
   "display_name": "Python 3 (ipykernel)",
   "language": "python",
   "name": "python3"
  },
  "language_info": {
   "codemirror_mode": {
    "name": "ipython",
    "version": 3
   },
   "file_extension": ".py",
   "mimetype": "text/x-python",
   "name": "python",
   "nbconvert_exporter": "python",
   "pygments_lexer": "ipython3",
   "version": "3.10.13"
  }
 },
 "nbformat": 4,
 "nbformat_minor": 5
}
